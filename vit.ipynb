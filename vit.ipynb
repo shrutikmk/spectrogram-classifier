{
 "cells": [
  {
   "cell_type": "markdown",
   "metadata": {},
   "source": [
    "### Required imports"
   ]
  },
  {
   "cell_type": "code",
   "execution_count": 18,
   "metadata": {},
   "outputs": [],
   "source": [
    "import os\n",
    "import math\n",
    "\n",
    "import cv2\n",
    "import librosa\n",
    "import numpy as np \n",
    "import tensorflow as tf\n",
    "import tensorflow_addons as tfa\n",
    "import matplotlib.pyplot as plt\n",
    "from tensorflow.keras import layers, models \n",
    "from tensorflow.keras.callbacks import LearningRateScheduler\n",
    "from vit_keras import vit\n",
    "\n",
    "from sklearn.cluster import KMeans\n",
    "from sklearn.metrics import confusion_matrix, classification_report\n",
    "from sklearn.model_selection import train_test_split\n",
    "from sklearn.neighbors import KNeighborsClassifier\n",
    "from sklearn.manifold import Isomap"
   ]
  },
  {
   "cell_type": "markdown",
   "metadata": {},
   "source": [
    "### Directories"
   ]
  },
  {
   "cell_type": "code",
   "execution_count": 19,
   "metadata": {},
   "outputs": [],
   "source": [
    "directories = (\n",
    "    '/Users/shrutikmk/Documents/Coding/dog-bird-project/animals/dog',\n",
    "    '/Users/shrutikmk/Documents/Coding/dog-bird-project/animals/bird'\n",
    ")\n",
    "\n",
    "dog_single = '/Users/shrutikmk/Documents/Coding/dog-bird-project/animals/dog/344-3-0-0.wav'\n",
    "bird_single = '/Users/shrutikmk/Documents/Coding/dog-bird-project/animals/bird/Kus_1.wav'"
   ]
  },
  {
   "cell_type": "markdown",
   "metadata": {},
   "source": [
    "## Data Processing for Audio Classification\n",
    "\n",
    "### What does this class do?\n",
    "This class helps prepare the audio data for training and testing the model. It creates spectrograms (visual representations of audio) and applies data augmentation (making small changes to the data) to improve the model's learning.\n",
    "\n",
    "### Main Methods:\n",
    "\n",
    "1. **`make_spectrogram` Method:** Converts an audio file into a visual representation called a spectrogram. It uses the audio data to create an image that the model can understand. If augmentation is enabled, it also applies changes like stretching or shifting to the audio data before creating the spectrogram.\n",
    "\n",
    "2. **`process_files_in_folder` Method:** Processes all audio files in a given folder. It creates spectrograms for each file, assigns the corresponding label (0 for dog, 1 for bird), and stores them in data and label lists.\n",
    "\n",
    "3. **`prepare_data` Method:** Prepares the data for training the model. It processes audio files from both dog and bird folders, applies data augmentation, and creates arrays of spectrogram data and their corresponding labels in a format that the model can use.\n",
    "\n",
    "4. **`augment_audio` Method:** Performs data augmentation on audio data. It can stretch, shift, or add noise to the audio data, which helps the model learn better and become more robust."
   ]
  },
  {
   "cell_type": "code",
   "execution_count": 20,
   "metadata": {},
   "outputs": [],
   "source": [
    "class ProcessData:\n",
    "    def __init__(self, directories):\n",
    "        self.dog_folder, self.bird_folder = directories\n",
    "\n",
    "    def make_spectrogram(self, file_name, augment=False):\n",
    "        y, sr = librosa.load(file_name, sr=None, mono=True, res_type='kaiser_best')\n",
    "        if augment:\n",
    "            augment_type = np.random.choice(['time_stretch', 'pitch_shift', 'add_noise'], p=[0.3, 0.3, 0.4])\n",
    "            y = self.augment_audio(y, sr, augment_type)\n",
    "        spectrogram = librosa.feature.melspectrogram(y=y, sr=sr, n_mels=128, fmax=8000)\n",
    "        spectrogram = librosa.power_to_db(spectrogram, ref=np.max)\n",
    "        spec_data = spectrogram[:128, :216]\n",
    "        if spec_data.shape[1] < 216:\n",
    "            spec_data = np.pad(spec_data, ((0, 0), (0, 216 - spec_data.shape[1])))\n",
    "        spec_data = cv2.resize(spec_data, (224, 128))\n",
    "        return spec_data\n",
    "    \n",
    "    def process_files_in_folder(self, folder_name, label, augment=False):\n",
    "        file_list = os.listdir(folder_name)\n",
    "        data_list = []\n",
    "        label_list = []\n",
    "        for file_name in file_list:\n",
    "            if file_name.endswith('.wav' or '.flac'):\n",
    "                spec_data = self.make_spectrogram(os.path.join(folder_name, file_name), augment=augment)\n",
    "                data_list.append(spec_data)\n",
    "                label_list.append(label)\n",
    "        return data_list, label_list\n",
    "    \n",
    "    def prepare_data(self):\n",
    "        data_list = []\n",
    "        label_list = []\n",
    "        for file, label in [(self.dog_folder, 0), (self.bird_folder, 1)]:\n",
    "            data, labels = self.process_files_in_folder(file, label, augment=True)\n",
    "            data_list += data\n",
    "            label_list += labels\n",
    "        data_array = np.array(data_list)\n",
    "        label_array = tf.keras.utils.to_categorical(label_list, 2) \n",
    "        data_array_three = np.repeat(data_array[..., np.newaxis], 3, -1)\n",
    "        return data_array_three, label_array\n",
    "    \n",
    "    def augment_audio(self, y, sr, augment_type):\n",
    "        if augment_type == 'time_stretch':\n",
    "            speed_factor = np.random.uniform(0.9, 1.1)\n",
    "            \n",
    "            new_length = int(len(y) / speed_factor)\n",
    "            y_augmented = np.interp(np.linspace(0, len(y), new_length), np.arange(len(y)), y)\n",
    "        elif augment_type == 'pitch_shift':\n",
    "            steps = np.random.randint(-2, 3)\n",
    "            if steps == 0:\n",
    "                steps = 1\n",
    "            y_augmented = librosa.effects.pitch_shift(y, sr=sr, n_steps=steps)\n",
    "        elif augment_type == 'add_noise':\n",
    "            noise = np.random.randn(len(y))\n",
    "            y_augmented = y + noise\n",
    "        else:\n",
    "            return y\n",
    "        return y_augmented"
   ]
  },
  {
   "cell_type": "markdown",
   "metadata": {},
   "source": [
    "## Vision Transformer (VIT) Model\n",
    "\n",
    "### What does this class do?\n",
    "This class represents a Vision Transformer (VIT) model for audio classification. The VIT model is a neural network architecture that's designed for image classification tasks. This class adapts the VIT model for audio classification by converting audio spectrograms into \"image-like\" inputs.\n",
    "\n",
    "### Main Methods:\n",
    "\n",
    "1. **`create_vit_model` Method:** Creates a VIT model adapted for audio classification. It determines the patch size and image dimensions suitable for processing audio spectrograms. The VIT model is added on top of the base architecture, followed by a flattening layer and a dense layer for classification.\n",
    "\n",
    "2. **`compile` Method:** Compiles the VIT model by setting its optimizer, loss function, and evaluation metrics.\n",
    "\n",
    "3. **`train` Method:** Trains the VIT model using provided training data and labels. It adjusts the learning rate during training using a learning rate schedule.\n",
    "\n",
    "4. **`evaluate` Method:** Evaluates the VIT model's performance on test data and returns the accuracy.\n",
    "\n",
    "5. **`lr_schedule` Method:** Defines the learning rate schedule for training. The learning rate starts to decay after a certain number of epochs.\n",
    "\n",
    "6. **`predict` Method:** Predicts the class label of an audio file using the trained VIT model. It converts the audio data into spectrogram format and processes it through the model. The method also handles the case where the model is uncertain about its prediction.\n",
    "\n",
    "7. **`getembedding` Method:** Extracts embeddings (feature representations) from the VIT model for given audio data. This can be used for further analysis or visualization of the learned features.\n",
    "\n",
    "8. **`summary` Method:** Prints a summary of the VIT model's architecture."
   ]
  },
  {
   "cell_type": "code",
   "execution_count": 21,
   "metadata": {},
   "outputs": [],
   "source": [
    "class VITModel:\n",
    "    def __init__(self):\n",
    "        self.model = self.create_vit_model()\n",
    "\n",
    "    def create_vit_model(self):\n",
    "        patch_size = 16\n",
    "        image_height = 128\n",
    "        image_width = 216\n",
    "        \n",
    "        image_height = int(math.ceil(image_height / patch_size)) * patch_size\n",
    "        image_width = int(math.ceil(image_width / patch_size)) * patch_size\n",
    "\n",
    "        vit_model = vit.vit_b32( \n",
    "            image_size=(image_height, image_width),\n",
    "            activation='softmax',\n",
    "            pretrained=True,\n",
    "            include_top=False,\n",
    "            pretrained_top=False,\n",
    "            classes=2\n",
    "        )\n",
    "\n",
    "        model = tf.keras.Sequential([\n",
    "            vit_model,\n",
    "            tf.keras.layers.Flatten(),\n",
    "            tf.keras.layers.Dense(2, activation='softmax')\n",
    "        ])\n",
    "\n",
    "        return model\n",
    "\n",
    "    def compile(self):\n",
    "        optimizer = tf.keras.optimizers.legacy.Adam(learning_rate=0.001)  \n",
    "        self.model.compile(optimizer=optimizer,\n",
    "                       loss='categorical_crossentropy', \n",
    "                       metrics=[tf.keras.metrics.Recall(), tf.keras.metrics.Precision()])\n",
    "    \n",
    "    def train(self, train_data, train_labels, test_data, test_labels):\n",
    "        lr_scheduler = LearningRateScheduler(self.lr_schedule)\n",
    "        history = self.model.fit(train_data, train_labels, \n",
    "                                epochs=1, \n",
    "                                validation_data=(test_data, test_labels), \n",
    "                                callbacks=[lr_scheduler], \n",
    "                                shuffle=True)\n",
    "        return history\n",
    "\n",
    "    def evaluate(self, test_data, test_labels):\n",
    "        predictions = self.model.predict(test_data)\n",
    "        predicted_classes = np.argmax(predictions, axis=1) \n",
    "        true_classes = np.argmax(test_labels, axis=1)\n",
    "        accuracy = np.mean(predicted_classes == true_classes) \n",
    "        return accuracy\n",
    "\n",
    "    def lr_schedule(self, epoch, lr):\n",
    "        initial_lr = 0.001 \n",
    "        decay_rate = 0.9  \n",
    "        decay_step = 1  \n",
    "        \n",
    "        if epoch < 5:\n",
    "            return lr\n",
    "        else:\n",
    "            return initial_lr * (decay_rate ** (epoch / decay_step))\n",
    "    \n",
    "    def predict(self, audio_file_path):\n",
    "        processor = ProcessData(directories)\n",
    "        spec_data = processor.make_spectrogram(audio_file_path)\n",
    "        spec_data = np.expand_dims(spec_data, axis=0)\n",
    "        spec_data_three = np.repeat(spec_data[..., np.newaxis], 3, -1)\n",
    "        \n",
    "        predictions = self.model.predict(spec_data_three)\n",
    "        predicted_class = np.argmax(predictions, axis=1)\n",
    "        label_map = {0: \"dog\", 1: \"bird\"}\n",
    "\n",
    "        if predictions[0][0] < 0.8 and predictions[0][1] < 0.8:\n",
    "            return \"other\", predictions[0]\n",
    "        else:\n",
    "            return label_map[predicted_class[0]], predictions[0]\n",
    "        \n",
    "    def getembedding(self, audio_data):\n",
    "        vit_model = self.model.layers[0]\n",
    "        \n",
    "        intermediate_layer_model = tf.keras.Model(inputs=vit_model.input, outputs=vit_model.output)\n",
    "            \n",
    "        embeddings = intermediate_layer_model.predict(audio_data)\n",
    "        return embeddings\n",
    "\n",
    "    def summary(self):\n",
    "        self.model.summary()"
   ]
  },
  {
   "cell_type": "markdown",
   "metadata": {},
   "source": [
    "## Graph Visualization for Training Loss\n",
    "\n",
    "### Purpose:\n",
    "This class helps create a clear visual representation of how training and validation loss change during model training.\n",
    "\n",
    "### Method: `plot(history)`\n",
    "- **Purpose:** Displays a plot of training loss and validation loss over epochs.\n",
    "- **Input:** Training history containing loss values for each epoch.\n",
    "- **Output:** A graph illustrating loss trends.\n",
    "\n",
    "### Plot Explanation:\n",
    "1. A 12x4-inch figure is prepared with `plt.figure(figsize=(12, 4))`.\n",
    "2. A subplot arrangement of 1 row and 2 columns is set with `plt.subplot(1, 2, 1)` for side-by-side plots.\n",
    "3. Training loss values are plotted using `plt.plot(history.history['loss'], label='Training Loss')`.\n",
    "4. Validation loss values are plotted using `plt.plot(history.history['val_loss'], label='Validation Loss')`.\n",
    "5. A legend is placed in the upper right corner with `plt.legend(loc='upper right')`.\n",
    "6. The title \"Training and Validation Loss\" is assigned via `plt.title('Training and Validation Loss')`.\n",
    "7. X-axis is labeled as \"Epoch\" with `plt.xlabel('Epoch')`, and y-axis is labeled as \"Loss Value\" with `plt.ylabel('Loss Value')`.\n",
    "8. The final command `plt.show()` is used to display the graph."
   ]
  },
  {
   "cell_type": "code",
   "execution_count": 22,
   "metadata": {},
   "outputs": [],
   "source": [
    "class Graph:\n",
    "    def plot(history):\n",
    "        plt.figure(figsize=(12, 4))\n",
    "\n",
    "        plt.subplot(1, 2, 1)\n",
    "        plt.plot(history.history['loss'], label='Training Loss')\n",
    "        plt.plot(history.history['val_loss'], label='Validation Loss')\n",
    "        plt.legend(loc='upper right')\n",
    "        plt.title('Training and Validation Loss')\n",
    "        plt.xlabel('Epoch')\n",
    "        plt.ylabel('Loss Value')\n",
    "\n",
    "        plt.show()"
   ]
  },
  {
   "cell_type": "markdown",
   "metadata": {},
   "source": [
    "## Model Evaluator for Classification\n",
    "\n",
    "### Purpose:\n",
    "This class evaluates the performance of a given model on a dataset and provides insights through various evaluation methods.\n",
    "\n",
    "### Constructor: `__init__(model, data, labels)`\n",
    "- **Input:**\n",
    "  - `model`: Trained model for evaluation.\n",
    "  - `data`: Input data used for evaluation.\n",
    "  - `labels`: Corresponding true labels for the input data.\n",
    "- **Actions:**\n",
    "  - Computes model predictions for the input data.\n",
    "  - Adjusts predictions based on a threshold to consider a third class (\"other\").\n",
    "\n",
    "### Method: `plot_confusion_matrix()`\n",
    "- **Purpose:** Displays a graphical representation of the confusion matrix.\n",
    "- **Input:** None (uses class attributes).\n",
    "- **Output:** A colored matrix plot showing true and predicted labels.\n",
    "\n",
    "### Method: `print_classification_report()`\n",
    "- **Purpose:** Prints a classification report showing various metrics.\n",
    "- **Input:** None (uses class attributes).\n",
    "- **Output:** Prints a comprehensive classification report.\n",
    "\n",
    "### Internal Method: `_adjusted_predictions(predictions)`\n",
    "- **Purpose:** Adjusts model predictions based on a threshold to include an \"other\" class.\n",
    "- **Input:** Array of predicted probabilities.\n",
    "- **Output:** Adjusted array of predicted classes.\n",
    "\n",
    "This class simplifies the evaluation of a classification model's performance. It allows visualization of prediction accuracy through a confusion matrix and provides a detailed classification report. Additionally, it adjusts predictions to account for instances where both class probabilities are low, improving model versatility.\n"
   ]
  },
  {
   "cell_type": "code",
   "execution_count": 23,
   "metadata": {},
   "outputs": [],
   "source": [
    "class ModelEvaluator:\n",
    "    def __init__(self, model, data, labels):\n",
    "        self.model = model\n",
    "        self.data = data\n",
    "        self.labels = labels\n",
    "        self.predictions = self.model.predict(self.data)\n",
    "        self.predicted_classes = self._adjusted_predictions(self.predictions)       \n",
    "        self.true_classes = np.argmax(self.labels, axis=1)\n",
    "\n",
    "    def plot_confusion_matrix(self):\n",
    "        cm = confusion_matrix(self.true_classes, self.predicted_classes)\n",
    "\n",
    "        plt.figure(figsize=(10, 7))\n",
    "        \n",
    "        plt.matshow(cm, cmap='Blues', fignum=1)\n",
    "        plt.colorbar()\n",
    "\n",
    "        for i in range(cm.shape[0]):\n",
    "            for j in range(cm.shape[1]):\n",
    "                plt.text(j, i, cm[i, j], ha='center', va='center', color='red')\n",
    "\n",
    "        plt.xlabel('Predicted labels')\n",
    "        plt.ylabel('True labels')\n",
    "        plt.title('Confusion Matrix')\n",
    "        plt.xticks([0, 1, 2], ['dog', 'bird', 'other'])\n",
    "        plt.yticks([0, 1, 2], ['dog', 'bird', 'other'])\n",
    "        plt.show()\n",
    "\n",
    "    def print_classification_report(self):\n",
    "        report = classification_report(self.true_classes, self.predicted_classes, target_names=['dog', 'bird', 'other'])\n",
    "        print(report)\n",
    "    \n",
    "    def _adjusted_predictions(self, predictions):\n",
    "        predicted_classes = np.argmax(predictions, axis=1)\n",
    "        other_threshold = 0.8\n",
    "        adjusted_predictions = []\n",
    "\n",
    "        for prob in predictions:\n",
    "            if prob[0] < other_threshold and prob[1] < other_threshold:\n",
    "                adjusted_predictions.append(2)\n",
    "            else:\n",
    "                adjusted_predictions.append(np.argmax(prob))\n",
    "\n",
    "        return np.array(adjusted_predictions)"
   ]
  },
  {
   "cell_type": "markdown",
   "metadata": {},
   "source": [
    "## KNN-Based Audio Predictor\n",
    "\n",
    "### Purpose:\n",
    "This class uses a K-Nearest Neighbors (KNN) algorithm for predicting audio class labels based on pre-computed embeddings from a Vision Transformer (ViT) model.\n",
    "\n",
    "### Constructor: `__init__(vit_model, reference_data, reference_labels)`\n",
    "- **Input:**\n",
    "  - `vit_model`: Trained ViT model for extracting embeddings.\n",
    "  - `reference_data`: Reference data used to compute embeddings.\n",
    "  - `reference_labels`: Corresponding labels for the reference data.\n",
    "- **Actions:**\n",
    "  - Initializes the KNN classifier with one nearest neighbor.\n",
    "  - Computes embeddings for the reference data using the ViT model.\n",
    "  - Fits the KNN model using reference embeddings and labels.\n",
    "\n",
    "### Method: `predict(audio_path)`\n",
    "- **Purpose:** Predicts the class label of a new audio sample using KNN and pre-computed embeddings.\n",
    "- **Input:**\n",
    "  - `audio_path`: Path to the new audio file for prediction.\n",
    "- **Output:** Predicted class label (\"dog,\" \"bird,\" or \"other\")."
   ]
  },
  {
   "cell_type": "code",
   "execution_count": 24,
   "metadata": {},
   "outputs": [],
   "source": [
    "class KNNBasedPredictor:\n",
    "    def __init__(self, vit_model, reference_data, reference_labels):\n",
    "        self.vit_model = vit_model\n",
    "        self.processor = ProcessData(directories) \n",
    "        self.knn = KNeighborsClassifier(n_neighbors=1)\n",
    "\n",
    "        reference_embeddings = self.vit_model.getembedding(reference_data)\n",
    "        \n",
    "        reference_int_labels = np.argmax(reference_labels, axis=1)\n",
    "\n",
    "        self.knn.fit(reference_embeddings, reference_int_labels)\n",
    "\n",
    "    def predict(self, audio_path):\n",
    "        spec_data = self.processor.make_spectrogram(audio_path)\n",
    "        spec_data = np.expand_dims(spec_data, axis=0)\n",
    "        spec_data_three = np.repeat(spec_data[..., np.newaxis], 3, -1)\n",
    "\n",
    "        new_audio_embedding = self.vit_model.getembedding(spec_data_three)\n",
    "        \n",
    "        predicted_label = self.knn.predict(new_audio_embedding)\n",
    "        if predicted_label[0] == 0:\n",
    "            return \"dog\"\n",
    "        elif predicted_label[0] == 1:\n",
    "            return \"bird\"\n",
    "        else:\n",
    "            return \"other\""
   ]
  },
  {
   "cell_type": "markdown",
   "metadata": {},
   "source": [
    "__Data Processing Initialization:__\n",
    "\n",
    "processor = ProcessData(directories): Creates an instance of the ProcessData class by passing the directories object as input.\n",
    "\n",
    "\n",
    "__Preparing Data for Training and Testing:__\n",
    "\n",
    "data, labels = processor.prepare_data(): Calls the prepare_data() method of the processor to generate preprocessed data and corresponding labels.\n",
    "\n",
    "train_data, test_data, train_labels, test_labels = train_test_split(data, labels, test_size=0.2, random_state=42): Splits the preprocessed data and labels into training and testing sets using a test size of 20%. The random state ensures reproducibility."
   ]
  },
  {
   "cell_type": "code",
   "execution_count": 25,
   "metadata": {},
   "outputs": [
    {
     "name": "stderr",
     "output_type": "stream",
     "text": [
      "/Library/Frameworks/Python.framework/Versions/3.11/lib/python3.11/site-packages/librosa/feature/spectral.py:2157: UserWarning: Empty filters detected in mel frequency basis. Some channels will produce empty responses. Try increasing your sampling rate (and fmax) or reducing n_mels.\n",
      "  mel_basis = filters.mel(sr=sr, n_fft=n_fft, **kwargs)\n",
      "Note: Illegal Audio-MPEG-Header 0x66616374 at offset 2266.\n",
      "Note: Trying to resync...\n",
      "Note: Hit end of (available) data during resync.\n",
      "Note: Illegal Audio-MPEG-Header 0x66616374 at offset 12730.\n",
      "Note: Trying to resync...\n",
      "Note: Hit end of (available) data during resync.\n",
      "Note: Illegal Audio-MPEG-Header 0x4c495354 at offset 40390.\n",
      "Note: Trying to resync...\n",
      "Note: Hit end of (available) data during resync.\n"
     ]
    }
   ],
   "source": [
    "processor = ProcessData(directories)\n",
    "data, labels = processor.prepare_data()\n",
    "train_data, test_data, train_labels, test_labels = train_test_split(data, labels, test_size=0.2, random_state=42)"
   ]
  },
  {
   "cell_type": "markdown",
   "metadata": {},
   "source": [
    "Compiles model"
   ]
  },
  {
   "cell_type": "code",
   "execution_count": 26,
   "metadata": {},
   "outputs": [
    {
     "name": "stderr",
     "output_type": "stream",
     "text": [
      "/Library/Frameworks/Python.framework/Versions/3.11/lib/python3.11/site-packages/vit_keras/utils.py:81: UserWarning: Resizing position embeddings from 12, 12 to 7, 4\n",
      "  warnings.warn(\n"
     ]
    }
   ],
   "source": [
    "vit_model = VITModel()\n",
    "vit_model.compile()"
   ]
  },
  {
   "cell_type": "markdown",
   "metadata": {},
   "source": [
    "Train/evaluate model, return accuracy"
   ]
  },
  {
   "cell_type": "code",
   "execution_count": 27,
   "metadata": {},
   "outputs": [
    {
     "name": "stdout",
     "output_type": "stream",
     "text": [
      "340/340 [==============================] - 1191s 3s/step - loss: 0.2572 - recall: 0.9348 - precision: 0.9348 - val_loss: 0.1688 - val_recall: 0.9349 - val_precision: 0.9349 - lr: 0.0010\n",
      "85/85 [==============================] - 103s 1s/step\n",
      "Accuracy: 0.934902537697683\n"
     ]
    }
   ],
   "source": [
    "history = vit_model.train(train_data, train_labels, test_data, test_labels)\n",
    "accuracy = vit_model.evaluate(test_data, test_labels)\n",
    "print(\"Accuracy:\", accuracy)"
   ]
  },
  {
   "cell_type": "code",
   "execution_count": 28,
   "metadata": {},
   "outputs": [
    {
     "data": {
      "image/png": "[encoded data removed]",
      "text/plain": [
       "<Figure size 1200x400 with 1 Axes>"
      ]
     },
     "metadata": {},
     "output_type": "display_data"
    }
   ],
   "source": [
    "Graph.plot(history)"
   ]
  },
  {
   "cell_type": "markdown",
   "metadata": {},
   "source": [
    "Creates reference dataset for knn predictor"
   ]
  },
  {
   "cell_type": "code",
   "execution_count": 29,
   "metadata": {},
   "outputs": [],
   "source": [
    "reference_data = np.vstack([train_data, test_data])\n",
    "reference_labels = np.vstack([train_labels, test_labels])"
   ]
  },
  {
   "cell_type": "code",
   "execution_count": 30,
   "metadata": {},
   "outputs": [
    {
     "name": "stdout",
     "output_type": "stream",
     "text": [
      "425/425 [==============================] - 502s 1s/step\n"
     ]
    }
   ],
   "source": [
    "knn_predictor = KNNBasedPredictor(vit_model, reference_data, reference_labels)"
   ]
  },
  {
   "cell_type": "code",
   "execution_count": 31,
   "metadata": {},
   "outputs": [
    {
     "name": "stdout",
     "output_type": "stream",
     "text": [
      "Model: \"sequential\"\n",
      "_________________________________________________________________\n",
      " Layer (type)                Output Shape              Param #   \n",
      "=================================================================\n",
      " vit-b32 (Functional)        (None, 768)               87439104  \n",
      "                                                                 \n",
      " flatten (Flatten)           (None, 768)               0         \n",
      "                                                                 \n",
      " dense (Dense)               (None, 2)                 1538      \n",
      "                                                                 \n",
      "=================================================================\n",
      "Total params: 87440642 (333.56 MB)\n",
      "Trainable params: 87440642 (333.56 MB)\n",
      "Non-trainable params: 0 (0.00 Byte)\n",
      "_________________________________________________________________\n",
      "None\n"
     ]
    }
   ],
   "source": [
    "print(vit_model.model.summary())"
   ]
  },
  {
   "cell_type": "code",
   "execution_count": 32,
   "metadata": {},
   "outputs": [
    {
     "name": "stdout",
     "output_type": "stream",
     "text": [
      "1/1 [==============================] - 3s 3s/step\n",
      "Predicted Class: bird\n"
     ]
    }
   ],
   "source": [
    "audio_path = bird_single\n",
    "predicted_class = knn_predictor.predict(audio_path)\n",
    "print(\"Predicted Class:\", predicted_class)"
   ]
  },
  {
   "cell_type": "code",
   "execution_count": 34,
   "metadata": {},
   "outputs": [
    {
     "name": "stdout",
     "output_type": "stream",
     "text": [
      "1/1 [==============================] - 3s 3s/step\n",
      "Predicted Class: dog\n"
     ]
    }
   ],
   "source": [
    "audio_path = dog_single\n",
    "predicted_class = knn_predictor.predict(audio_path)\n",
    "print(\"Predicted Class:\", predicted_class)"
   ]
  },
  {
   "cell_type": "markdown",
   "metadata": {},
   "source": [
    "Returns confusion matrix"
   ]
  },
  {
   "cell_type": "code",
   "execution_count": 33,
   "metadata": {},
   "outputs": [
    {
     "name": "stdout",
     "output_type": "stream",
     "text": [
      "85/85 [==============================] - 99s 1s/step\n"
     ]
    },
    {
     "data": {
      "image/png": "[encoded data removed]",
      "text/plain": [
       "<Figure size 1000x700 with 2 Axes>"
      ]
     },
     "metadata": {},
     "output_type": "display_data"
    },
    {
     "name": "stdout",
     "output_type": "stream",
     "text": [
      "              precision    recall  f1-score   support\n",
      "\n",
      "         dog       0.97      0.73      0.83       881\n",
      "        bird       0.97      0.99      0.98      1838\n",
      "       other       0.00      0.00      0.00         0\n",
      "\n",
      "    accuracy                           0.90      2719\n",
      "   macro avg       0.65      0.57      0.60      2719\n",
      "weighted avg       0.97      0.90      0.93      2719\n",
      "\n"
     ]
    },
    {
     "name": "stderr",
     "output_type": "stream",
     "text": [
      "/Library/Frameworks/Python.framework/Versions/3.11/lib/python3.11/site-packages/sklearn/metrics/_classification.py:1469: UndefinedMetricWarning: Recall and F-score are ill-defined and being set to 0.0 in labels with no true samples. Use `zero_division` parameter to control this behavior.\n",
      "  _warn_prf(average, modifier, msg_start, len(result))\n",
      "/Library/Frameworks/Python.framework/Versions/3.11/lib/python3.11/site-packages/sklearn/metrics/_classification.py:1469: UndefinedMetricWarning: Recall and F-score are ill-defined and being set to 0.0 in labels with no true samples. Use `zero_division` parameter to control this behavior.\n",
      "  _warn_prf(average, modifier, msg_start, len(result))\n",
      "/Library/Frameworks/Python.framework/Versions/3.11/lib/python3.11/site-packages/sklearn/metrics/_classification.py:1469: UndefinedMetricWarning: Recall and F-score are ill-defined and being set to 0.0 in labels with no true samples. Use `zero_division` parameter to control this behavior.\n",
      "  _warn_prf(average, modifier, msg_start, len(result))\n"
     ]
    }
   ],
   "source": [
    "evaluator = ModelEvaluator(vit_model.model, test_data, test_labels)\n",
    "evaluator.plot_confusion_matrix()\n",
    "evaluator.print_classification_report()"
   ]
  }
 ],
 "metadata": {
  "kernelspec": {
   "display_name": "Python 3",
   "language": "python",
   "name": "python3"
  },
  "language_info": {
   "codemirror_mode": {
    "name": "ipython",
    "version": 3
   },
   "file_extension": ".py",
   "mimetype": "text/x-python",
   "name": "python",
   "nbconvert_exporter": "python",
   "pygments_lexer": "ipython3",
   "version": "3.11.4"
  },
  "orig_nbformat": 4
 },
 "nbformat": 4,
 "nbformat_minor": 2
}
