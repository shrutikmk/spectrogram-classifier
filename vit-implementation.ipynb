{
 "cells": [
  {
   "cell_type": "markdown",
   "metadata": {},
   "source": [
    "#### Imports\n",
    "\n",
    "- Tensorflow used for learning rate scheduling, compiling the learning model, and creates binary labels for data processing\n",
    "- cv2 used to resize spectrograms\n",
    "- vit used to define the vision transformer model\n",
    "- librosa used to load the audio files\n",
    "- numpy used to normalized the spectrogram data and to generate random numbers\n",
    "- matplotlib used to display spectrograms\n",
    "- os used for file paths\n",
    "- sklearn used to split data into training and test sets\n",
    "- math used to calculate image dimensions for the vision transformer"
   ]
  },
  {
   "cell_type": "code",
   "execution_count": 1,
   "metadata": {},
   "outputs": [
    {
     "name": "stderr",
     "output_type": "stream",
     "text": [
      "/Library/Frameworks/Python.framework/Versions/3.11/lib/python3.11/site-packages/tensorflow_addons/utils/tfa_eol_msg.py:23: UserWarning: \n",
      "\n",
      "TensorFlow Addons (TFA) has ended development and introduction of new features.\n",
      "TFA has entered a minimal maintenance and release mode until a planned end of life in May 2024.\n",
      "Please modify downstream libraries to take dependencies from other repositories in our TensorFlow community (e.g. Keras, Keras-CV, and Keras-NLP). \n",
      "\n",
      "For more information see: https://github.com/tensorflow/addons/issues/2807 \n",
      "\n",
      "  warnings.warn(\n"
     ]
    }
   ],
   "source": [
    "import tensorflow_addons as tfa\n",
    "import cv2\n",
    "from vit_keras import vit\n",
    "import librosa\n",
    "import numpy as np \n",
    "import tensorflow as tf\n",
    "import matplotlib.pyplot as plt\n",
    "from tensorflow.keras import layers, models \n",
    "import os \n",
    "from sklearn.model_selection import train_test_split\n",
    "from tensorflow.keras.callbacks import LearningRateScheduler\n",
    "import math"
   ]
  },
  {
   "cell_type": "markdown",
   "metadata": {},
   "source": [
    "#### Path definitions\n",
    "\n",
    "Potential optimization here is to make it so only the animal folder needs to be used, but these variables store strings that make it easier to access specific filepaths to folders which contain the audio files. This also helps with testing specific aspects of the code. "
   ]
  },
  {
   "cell_type": "code",
   "execution_count": 2,
   "metadata": {},
   "outputs": [],
   "source": [
    "animals_folder = '/Users/shrutikmk/Documents/Coding/dog-bird-project/animals'\n",
    "\n",
    "dog_folder = '/Users/shrutikmk/Documents/Coding/dog-bird-project/animals/dog'\n",
    "bird_folder = '/Users/shrutikmk/Documents/Coding/dog-bird-project/animals/bird'\n",
    "other_folder = '/Users/shrutikmk/Documents/Coding/dog-bird-project/animals/other'\n",
    "\n",
    "dog_single = '/Users/shrutikmk/Documents/Coding/dog-bird-project/animals/dog/dog_1.wav'\n",
    "bird_single = '/Users/shrutikmk/Documents/Coding/dog-bird-project/animals/bird/Kus_1.wav'\n",
    "other_single = '/Users/shrutikmk/Documents/Coding/dog-bird-project/animals/other/aslan_1.wav'"
   ]
  },
  {
   "cell_type": "markdown",
   "metadata": {},
   "source": [
    "# Spectrogram generation and visualization\n",
    "\n",
    "Neither of these functions are used in the main program-- they are simply used to analyze one specific audio file as a proof of concept. \n",
    "\n",
    "## make_spec_data():\n",
    "\n",
    "### Summary\n",
    "This function takes in an audio file, loads it using librosa, and then creates a mel-spectrogram returned as a 2D numpy array.\n",
    "- Arguments: file_name (str): file path to audio file\n",
    "- Returns: spectrogram (np.array): 2D numpy array of a spectrogram\n",
    "\n",
    "### Explanation\n",
    "- librosa.load takes in an audio file, utilizes the default sample rate (via setting sr to None), makes the sound have 1 mono channel, and maximizes resampling quality by using kaiser_best. other types that may be lower quality (but notably faster) are the default soxr_hq, or you can maximize speed by doing soxr_lq. y is the audio data and sr is set to the default sample rate initially. \n",
    "- sample rate of the inputted audio file is then obtained by librosa.get_samplerate() and put into sr.\n",
    "- a spectrogram is generated using the audio data \n",
    "- the spectrogram is then converted into a power spectrogram to help visualize contrasts more easily\n",
    "- the spectrogram is finally returned"
   ]
  },
  {
   "cell_type": "code",
   "execution_count": 3,
   "metadata": {},
   "outputs": [],
   "source": [
    "def make_spec_data(file_name):\n",
    "    y, sr = librosa.load(file_name, sr=None, mono=True, res_type='kaiser_best')\n",
    "    sr = librosa.get_samplerate(file_name)\n",
    "    spectrogram = librosa.feature.melspectrogram(y=y, sr=sr, n_mels=128, fmax=8000)\n",
    "    spectrogram = librosa.power_to_db(spectrogram, ref=np.max)\n",
    "    return spectrogram"
   ]
  },
  {
   "cell_type": "markdown",
   "metadata": {},
   "source": [
    "## make_spec_picture():\n",
    "\n",
    "This function takes in a 2D numpy array that contains a spectrogram and uses librosa and matplotlib to show you the spectrogram, plotted. \n",
    "- Arguments: spec_data (np.array): 2D numpy array of a spectrogram\n",
    "- Returns: (nothing), displays the spectrogram\n",
    "\n",
    "### Explanation\n",
    "- Creates figure for the plot (10 by 4 inches, this number is arbitrary but it fits the screen size of my mac)\n",
    "- librosa function used to display the spectrogram via taking in the spectrogram data generated by make_spec_data\n",
    "- colorbar used to boost quality of life for the graph\n",
    "- title set to Mel Spectrogram\n",
    "- plt.tight_layout used to make the graph look prettier via ensuring parameters line up with the display\n",
    "- plot is then displayed"
   ]
  },
  {
   "cell_type": "code",
   "execution_count": 4,
   "metadata": {},
   "outputs": [],
   "source": [
    "def make_spec_picture(spec_data):\n",
    "    plt.figure(figsize=(10, 4))\n",
    "    librosa.display.specshow(spec_data, y_axis='mel', fmax=8000, x_axis='time')\n",
    "    plt.colorbar(format='%+2.0f dB')\n",
    "    plt.title('Mel spectrogram')\n",
    "    plt.tight_layout()\n",
    "    plt.show()"
   ]
  },
  {
   "cell_type": "markdown",
   "metadata": {},
   "source": [
    "# Data processing and augmentation \n",
    "These functions are used in the main program and build off the previous two functions. \n",
    "\n",
    "## make_spectrogram():\n",
    "Creates spectrogram data given an audio file, which can be augmented if specified. \n",
    "\n",
    "Arguments:\n",
    "- file_name (str): path to the audio file\n",
    "- augment (bool): whether the audio file should be augmented\n",
    "\n",
    "Returns: \n",
    "- spec_data (numpy.ndarray): spectrogram data\n",
    "\n",
    "Summary:\n",
    "- loads an audio file using librosa.load, converted to mono and resampled using kaiser_best\n",
    "- if augment == True, the audio is augmented using a random method between time_stretch, pitch_shift, or add_noise, each of which have arbitrary probabilities of 0.3/0.3/0.4 respectively\n",
    "- mel spectrogram is generated via librosa\n",
    "- the power spectrogram gets converted to decibels so it can be plotted\n",
    "- the data is then sliced or padded to have a shape of 128x216 so it becomes uniform\n",
    "- cv2.resize is used to then reshape the data so the vit model can work with it later\n",
    "- returns spec_data (processed data)"
   ]
  },
  {
   "cell_type": "code",
   "execution_count": 5,
   "metadata": {},
   "outputs": [],
   "source": [
    "def make_spectrogram(file_name, augment=False):\n",
    "    y, sr = librosa.load(file_name, sr=None, mono=True, res_type='kaiser_best')\n",
    "    if augment:\n",
    "        augment_type = np.random.choice(['time_stretch', 'pitch_shift', 'add_noise'], p=[0.3, 0.3, 0.4])\n",
    "        y = augment_audio(y, sr, augment_type)\n",
    "    spectrogram = librosa.feature.melspectrogram(y=y, sr=sr, n_mels=128, fmax=8000)\n",
    "    spectrogram = librosa.power_to_db(spectrogram, ref=np.max)\n",
    "    spec_data = spectrogram[:128, :216]\n",
    "    if spec_data.shape[1] < 216:\n",
    "        spec_data = np.pad(spec_data, ((0, 0), (0, 216 - spec_data.shape[1])))\n",
    "    spec_data = cv2.resize(spec_data, (224, 128))\n",
    "    return spec_data"
   ]
  },
  {
   "cell_type": "markdown",
   "metadata": {},
   "source": [
    "## process_files_in_folder():\n",
    "Processes all of the audio files within a folder, optionally augments them, generates spectrograms from them, and then gives each spectrogram a label. \n",
    "\n",
    "Arguments:\n",
    "- folder_name (str): file path to the folder containing audio files\n",
    "- label (str): numerical labels to be assigned to each audio file\n",
    "- augment (bool): whether the audio file should be augmented\n",
    "\n",
    "Returns:\n",
    "- data_list (list): list of spectrogram made from the audio files\n",
    "- label_list (list): list of labels associated with each file\n",
    "\n",
    "Summary:\n",
    "- lists all the files in the given folder\n",
    "- initializes data_list and label_list\n",
    "- loops over each file in the folder\n",
    "- if the file is a '.wav' or '.flac' a spectrogram is generated from the audio file, which is augmented prior if specified to be\n",
    "- spectrogram data gets appended to data_list\n",
    "- label for the data appended to label_list\n",
    "- lists are returned"
   ]
  },
  {
   "cell_type": "code",
   "execution_count": 6,
   "metadata": {},
   "outputs": [],
   "source": [
    "def process_files_in_folder(folder_name, label, augment=False):\n",
    "    file_list = os.listdir(folder_name)\n",
    "    data_list = []\n",
    "    label_list = []\n",
    "    for file_name in file_list:\n",
    "        if file_name.endswith('.wav' or '.flac'):\n",
    "            spec_data = make_spectrogram(os.path.join(folder_name, file_name), augment=augment)\n",
    "            data_list.append(spec_data)\n",
    "            label_list.append(label)\n",
    "    return data_list, label_list"
   ]
  },
  {
   "cell_type": "markdown",
   "metadata": {},
   "source": [
    "## prepare_data():\n",
    "\n",
    "Processes the audio files in each folder using process_files_in_folder(), assigns each audio file from each folder to a label, and then converts the generated spectrograms and labels into a NumPy array.\n",
    "\n",
    "Returns:\n",
    "- data_array_three (np.ndarray): spectrogram data from the audio files- has three channels to work with the vit model\n",
    "- label_array (np.ndarray): array of labels associated with each audio file\n",
    "\n",
    "Summary:\n",
    "- initializes data_list and label_list to store spectrogram and label data\n",
    "- loops over files in each folder (hard coded), each of which has a label \n",
    "- uses process_files_in_folder() to generate labels and spectrogram data per audio file and append it to their respective list\n",
    "- lists are then converted to numpy arrays\n",
    "- data_array is expanded to fit the dimension requirements of the vit model"
   ]
  },
  {
   "cell_type": "code",
   "execution_count": 7,
   "metadata": {},
   "outputs": [],
   "source": [
    "def prepare_data():\n",
    "    data_list = []\n",
    "    label_list = []\n",
    "    for file, label in [(dog_folder, 0), (bird_folder, 1), (other_folder, 2)]:\n",
    "        data, labels = process_files_in_folder(file, label, augment=True)\n",
    "        data_list += data\n",
    "        label_list += labels\n",
    "    data_array = np.array(data_list)\n",
    "    label_array = np.array(label_list)\n",
    "    data_array_three = np.repeat(data_array[..., np.newaxis], 3, -1)\n",
    "    return data_array_three, label_array"
   ]
  },
  {
   "cell_type": "markdown",
   "metadata": {},
   "source": [
    "## augment_audio():\n",
    "\n",
    "Arguments:\n",
    "- y (np.ndarray): audio data\n",
    "- sr (int): sample rate of the audio\n",
    "- augment_type (str): type of augmentation to be applied\n",
    "\n",
    "Returns:\n",
    "- y_augmented (np.ndarray): audio data post-augmentation effects being applied\n",
    "\n",
    "Summary:\n",
    "- takes in audio data, sample rate, and augment type\n",
    "\n",
    "- if selecting time_stretch, a random integer between 0.9 and 1.1 (ensures audio is still recognizable by limiting range) is generated as the factor of which the audio's speed will be changed\n",
    "- the new length of the audio is then generated by taking the length of the audio data and then dividing it by the integer\n",
    "- the audio is then stretched or compressed to match this generated length\n",
    "\n",
    "- for pitch_shift, a random number between -2 and 3 is generated\n",
    "- the audio pitch is then shifted by the prior number of steps \n",
    "\n",
    "- for add noise, a random amount of noise is added to the audio data\n",
    "\n",
    "- the audio, now augmented by one of the three options, is then returned"
   ]
  },
  {
   "cell_type": "code",
   "execution_count": 8,
   "metadata": {},
   "outputs": [],
   "source": [
    "def augment_audio(y, sr, augment_type):\n",
    "    if augment_type == 'time_stretch':\n",
    "        speed_factor = np.random.uniform(0.9, 1.1)\n",
    "        \n",
    "        new_length = int(len(y) / speed_factor)\n",
    "        y_augmented = np.interp(np.linspace(0, len(y), new_length), np.arange(len(y)), y)\n",
    "    elif augment_type == 'pitch_shift':\n",
    "        steps = np.random.randint(-2, 3)\n",
    "        if steps == 0:\n",
    "            steps = 1\n",
    "        y_augmented = librosa.effects.pitch_shift(y, sr=sr, n_steps=steps)\n",
    "    elif augment_type == 'add_noise':\n",
    "        noise = np.random.randn(len(y))\n",
    "        y_augmented = y + noise\n",
    "    else:\n",
    "        return y\n",
    "    return y_augmented"
   ]
  },
  {
   "cell_type": "markdown",
   "metadata": {},
   "source": [
    "# Data preparation\n",
    "\n",
    "- Data and labels are prepared using prepare_data()\n",
    "- Data and labels are then split into training and testing batches using train_test_split() from sklearn\n",
    "- Random state of 42 assigned to ensure these results are reproducible\n",
    "- Data is then normalized, which helps the vit operate faster\n",
    "- Labels are one hot encoded, which converts the categorical data into data the model can work with "
   ]
  },
  {
   "cell_type": "code",
   "execution_count": 9,
   "metadata": {},
   "outputs": [
    {
     "name": "stderr",
     "output_type": "stream",
     "text": [
      "/Library/Frameworks/Python.framework/Versions/3.11/lib/python3.11/site-packages/librosa/feature/spectral.py:2157: UserWarning: Empty filters detected in mel frequency basis. Some channels will produce empty responses. Try increasing your sampling rate (and fmax) or reducing n_mels.\n",
      "  mel_basis = filters.mel(sr=sr, n_fft=n_fft, **kwargs)\n",
      "Note: Illegal Audio-MPEG-Header 0x66616374 at offset 2266.\n",
      "Note: Trying to resync...\n",
      "Note: Hit end of (available) data during resync.\n",
      "Note: Illegal Audio-MPEG-Header 0x66616374 at offset 12730.\n",
      "Note: Trying to resync...\n",
      "Note: Hit end of (available) data during resync.\n",
      "Note: Illegal Audio-MPEG-Header 0x4c495354 at offset 40390.\n",
      "Note: Trying to resync...\n",
      "Note: Hit end of (available) data during resync.\n"
     ]
    }
   ],
   "source": [
    "data, labels = prepare_data()\n",
    "train_data, test_data, train_labels, test_labels = train_test_split(data, labels, test_size=0.2, random_state=42)\n",
    "\n",
    "train_data = (train_data - np.mean(train_data)) / np.std(train_data)\n",
    "test_data = (test_data - np.mean(test_data)) / np.std(test_data)\n",
    "\n",
    "train_labels = tf.keras.utils.to_categorical(train_labels, num_classes=3)\n",
    "test_labels = tf.keras.utils.to_categorical(test_labels, num_classes=3)"
   ]
  },
  {
   "cell_type": "markdown",
   "metadata": {},
   "source": [
    "# Model setup\n",
    "\n",
    "## lr_schedule():\n",
    "Slows the learning rate after the fifth epoch. A slowed learning rate should improve accuracy. \n",
    "\n",
    "Arguments:\n",
    "- epoch (int): the current epoch during training\n",
    "- lr (float): exisiting learning rate of the model \n",
    "\n",
    "Returns:\n",
    "- lr (float): adjusted learning rate\n",
    "\n",
    "Summary:\n",
    "- looks at the epoch number\n",
    "- if the epoch number is below 5, the learning rate is unchanged\n",
    "- if it is above 5, the learning rate is set to 10% of its original size\n",
    "\n",
    "then uses keras LearningRateScheduler class to create a learning schedule that the vit model can work with based on what we defined in the function"
   ]
  },
  {
   "cell_type": "code",
   "execution_count": null,
   "metadata": {},
   "outputs": [],
   "source": [
    "def lr_schedule(epoch, lr):\n",
    "    if epoch < 5:\n",
    "        return lr\n",
    "    else:\n",
    "        return lr * 0.01\n",
    "    \n",
    "lr_scheduler = LearningRateScheduler(lr_schedule)"
   ]
  },
  {
   "cell_type": "markdown",
   "metadata": {},
   "source": [
    "## create_vit_model():\n",
    "creates a vision transformer model for machine learning/audio classification\n",
    "\n",
    "returns:\n",
    "- model (tf.keras.Sequential): final vision transformer model \n",
    "\n",
    "summary:\n",
    "- defines patch size (16x16) and the image size that will eventually be divided into said patches (has to be multiple of 16)\n",
    "- resizes image to ensure they can be divided into the patches evenly\n",
    "\n",
    "then defines the vit model \n",
    "- b32 used as it's relatively faster than the other models while still being large enough to have high accuracy\n",
    "- softmax activation makes it so the model uses the highest probability to make a decision \n",
    "- pretrained being set to true makes it so the model has more data to make decisions based off of\n",
    "- discarding the top classification layers allows the model to solely use our training data to make a judgement\n",
    "- 3 classes to line up with the number of classes the data has\n",
    "\n",
    "defines the ml model using keras\n",
    "- sequential used to build the model using multiple classification layers\n",
    "- flatten used to limit output to one dimension\n",
    "- dense layer used to generate probability to make decision\n",
    "- softmax ensures the probabilities make sense\n",
    "\n",
    "model is then returned"
   ]
  },
  {
   "cell_type": "code",
   "execution_count": null,
   "metadata": {},
   "outputs": [],
   "source": [
    "def create_vit_model():\n",
    "    patch_size = 16\n",
    "    image_height = 128\n",
    "    image_width = 216\n",
    "    \n",
    "    image_height = int(math.ceil(image_height / patch_size)) * patch_size\n",
    "    image_width = int(math.ceil(image_width / patch_size)) * patch_size\n",
    "\n",
    "    vit_model = vit.vit_b32( \n",
    "        image_size=(image_height, image_width),\n",
    "        activation='softmax',\n",
    "        pretrained=True,\n",
    "        include_top=False,\n",
    "        pretrained_top=False,\n",
    "        classes=3\n",
    "    )\n",
    "\n",
    "    model = tf.keras.Sequential([\n",
    "        vit_model,\n",
    "        tf.keras.layers.Flatten(),\n",
    "        tf.keras.layers.Dense(3, activation='softmax')\n",
    "    ])\n",
    "\n",
    "    return model"
   ]
  },
  {
   "cell_type": "markdown",
   "metadata": {},
   "source": [
    "### Making the model ready for use\n",
    "\n",
    "model is created, and then configured for training (specified how the model will learn and what its metrics are)\n",
    "\n",
    "- adam used because adam is good with handling large datasets\n",
    "- categorical_crossentropy used due to multi classification problem (dog/bird/other)\n",
    "- metrics of recall and precision used for accuracy determination \n",
    "- recall = true positives / (true positives + false negatives)\n",
    "- precision = true positives / (true positivies + false positives)\n",
    "\n",
    "model is then trained on the previously defined data\n",
    "- saving to a variable allows us to analyze it later\n",
    "- model.fit() fits the model to the data we aim to train it on and test\n",
    "- train_data and train_labels is data we aim to train the model on\n",
    "\n",
    "- epochs are the number of times the dataset will be reviewed by the model \n",
    "- something to note: more epochs yields higher accuracy, this notebook just uses 2 for testing purposes but you generally want 20\n",
    "\n",
    "- validation data of test_data and test_labels gives the model unseen data to base the accuracy metrics on\n",
    "- callbacks helps define the learning rate\n",
    "- shuffle being true shuffles the training data, thus allowing for better generalization "
   ]
  },
  {
   "cell_type": "code",
   "execution_count": null,
   "metadata": {},
   "outputs": [
    {
     "name": "stderr",
     "output_type": "stream",
     "text": [
      "/Library/Frameworks/Python.framework/Versions/3.11/lib/python3.11/site-packages/vit_keras/utils.py:81: UserWarning: Resizing position embeddings from 12, 12 to 7, 4\n",
      "  warnings.warn(\n"
     ]
    }
   ],
   "source": [
    "model = create_vit_model()\n",
    "\n",
    "model.compile(optimizer='adam', loss='categorical_crossentropy', metrics=[tf.keras.metrics.Recall(), tf.keras.metrics.Precision()])"
   ]
  },
  {
   "cell_type": "code",
   "execution_count": null,
   "metadata": {},
   "outputs": [
    {
     "name": "stdout",
     "output_type": "stream",
     "text": [
      "Epoch 1/2\n",
      "469/469 [==============================] - 9007s 19s/step - loss: 0.2253 - recall: 0.9312 - precision: 0.9406 - val_loss: 0.1545 - val_recall: 0.9438 - val_precision: 0.9565 - lr: 0.0010\n",
      "Epoch 2/2\n",
      "157/469 [=========>....................] - ETA: 9:56 - loss: 0.1612 - recall: 0.9482 - precision: 0.9557"
     ]
    }
   ],
   "source": [
    "history = model.fit(train_data, train_labels, epochs=2, validation_data=(test_data, test_labels), callbacks = [lr_scheduler], shuffle = True)"
   ]
  },
  {
   "cell_type": "markdown",
   "metadata": {},
   "source": [
    "# Model evaluation\n",
    "Now that the model is trained, let's feed it the test data to see how well it predicts things. "
   ]
  },
  {
   "cell_type": "code",
   "execution_count": null,
   "metadata": {},
   "outputs": [
    {
     "name": "stdout",
     "output_type": "stream",
     "text": [
      "118/118 [==============================] - 57s 475ms/step\n"
     ]
    }
   ],
   "source": [
    "predictions = model.predict(test_data)"
   ]
  },
  {
   "cell_type": "markdown",
   "metadata": {},
   "source": [
    "The model predicts a label when fed a spectrogram. Since the labels are one-hot-encoded, the model will yield probabilities corresponding to each label.\n",
    "predicted_classes takes a look at these probabilities and narrows down the choices based on what the model yields. argmax ensures it selects the highest probability.\n",
    "true_classes does the same thing for the true values of the one hot encoded test data labels.\n",
    "\n",
    "the accuracy metric is then determined by seeing, on average, how often the predicted_classes are equal to the true_classes (how often the prediction is the real thing). "
   ]
  },
  {
   "cell_type": "code",
   "execution_count": null,
   "metadata": {},
   "outputs": [
    {
     "name": "stdout",
     "output_type": "stream",
     "text": [
      "Accuracy: 0.9541699973354649\n"
     ]
    }
   ],
   "source": [
    "predicted_classes = np.argmax(predictions, axis=1) \n",
    "true_classes = np.argmax(test_labels, axis=1)  \n",
    "\n",
    "accuracy = np.mean(predicted_classes == true_classes) \n",
    "print(\"Accuracy:\", accuracy)"
   ]
  },
  {
   "cell_type": "markdown",
   "metadata": {},
   "source": [
    "We then plot the loss and recall to gain an idea of how the performance of the model is. "
   ]
  },
  {
   "cell_type": "code",
   "execution_count": null,
   "metadata": {},
   "outputs": [
    {
     "data": {
      "image/png": "[encoded data removed]",
      "text/plain": [
       "<Figure size 1200x400 with 1 Axes>"
      ]
     },
     "metadata": {},
     "output_type": "display_data"
    }
   ],
   "source": [
    "plt.figure(figsize=(12, 4))\n",
    "\n",
    "plt.subplot(1, 2, 1)\n",
    "plt.plot(history.history['loss'], label='Training Loss')\n",
    "plt.plot(history.history['val_loss'], label='Validation Loss')\n",
    "plt.legend(loc='upper right')\n",
    "plt.title('Training and Validation Loss')\n",
    "plt.xlabel('Epoch')\n",
    "plt.ylabel('Loss Value')\n",
    "\n",
    "plt.show()"
   ]
  }
 ],
 "metadata": {
  "kernelspec": {
   "display_name": "Python 3",
   "language": "python",
   "name": "python3"
  },
  "language_info": {
   "codemirror_mode": {
    "name": "ipython",
    "version": 3
   },
   "file_extension": ".py",
   "mimetype": "text/x-python",
   "name": "python",
   "nbconvert_exporter": "python",
   "pygments_lexer": "ipython3",
   "version": "3.11.4"
  },
  "orig_nbformat": 4
 },
 "nbformat": 4,
 "nbformat_minor": 2
}
